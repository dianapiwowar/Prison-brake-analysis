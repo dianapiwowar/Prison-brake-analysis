{
 "cells": [
  {
   "cell_type": "code",
   "execution_count": 1,
   "metadata": {},
   "outputs": [],
   "source": [
    "# Analyzing data"
   ]
  },
  {
   "cell_type": "code",
   "execution_count": 2,
   "metadata": {},
   "outputs": [],
   "source": [
    "## Prison Helicopter Escapes"
   ]
  },
  {
   "cell_type": "markdown",
   "metadata": {},
   "source": [
    "We begin by importing some helper functions."
   ]
  },
  {
   "cell_type": "code",
   "execution_count": 3,
   "metadata": {},
   "outputs": [],
   "source": [
    "from helper import *"
   ]
  },
  {
   "cell_type": "code",
   "execution_count": 4,
   "metadata": {},
   "outputs": [],
   "source": [
    "## Get the Data"
   ]
  },
  {
   "cell_type": "markdown",
   "metadata": {},
   "source": [
    "Now, let's get the data from the [List of helicopter prison escapes](https://en.wikipedia.org/wiki/List_of_helicopter_prison_escapes) Wikipedia article."
   ]
  },
  {
   "cell_type": "code",
   "execution_count": 5,
   "metadata": {},
   "outputs": [
    {
     "name": "stdout",
     "output_type": "stream",
     "text": [
      "<class 'list'>\n"
     ]
    }
   ],
   "source": [
    "url = 'https://en.wikipedia.org/wiki/List_of_helicopter_prison_escapes'\n",
    "data = data_from_url(url)\n",
    "\n",
    "print(type(data))\n",
    "    "
   ]
  },
  {
   "cell_type": "markdown",
   "metadata": {},
   "source": [
    "Let's print the first three rows"
   ]
  },
  {
   "cell_type": "code",
   "execution_count": 6,
   "metadata": {},
   "outputs": [
    {
     "name": "stdout",
     "output_type": "stream",
     "text": [
      "['August 19, 1971', 'Santa Martha Acatitla', 'Mexico', 'Yes', 'Joel David Kaplan Carlos Antonio Contreras Castro', \"Kaplan was a New York businessman who had been arrested for murder in 1962 in Mexico City and was incarcerated at the Santa Martha Acatitla prison in the Iztapalapa borough. Joel's sister, Judy Kaplan, arranged the means to help Kaplan escape, and on the aforementioned date, a helicopter landed in the prison yard. The guards mistakenly thought this was an official visit. In two minutes, Kaplan and his cellmate Contreras, a Venezuelan counterfeiter, were able to board the craft and were piloted away, before any shots were fired.[10] Both men were flown to Texas and then different planes flew Kaplan to California and Contreras to Guatemala.[3] The Mexican government never initiated extradition proceedings against Kaplan.[10] The escape is told in a book, The 10-Second Jailbreak: The Helicopter Escape of Joel David Kaplan.[5] It also inspired the 1975 action movie Breakout, which starred Charles Bronson and Robert Duvall.[10]\"]\n",
      "['October 31, 1973', 'Mountjoy Jail, Dublin', 'Ireland', 'Yes', \"JB O'HaganSeamus TwomeyKevin Mallon\", 'An IRA member hijacked a helicopter and forced the pilot to land in the exercise yard of the prison\\'s D Wing at 3:40\\xa0p.m. Three prisoners who were also members of the IRA escaped aboard the helicopter. Another prisoner was quoted as saying, \"One shamefaced screw apologised to the governor and said he thought it was the new Minister for Defence (Paddy Donegan) arriving. I told him it was our Minister of Defence leaving.\" The escape became Republican lore and was immortalized by \"The Helicopter Song\", which contains the lines \"It\\'s up like a bird and over the city. There\\'s three men a\\'missing I heard the warder say\".[1]']\n",
      "['May 24, 1978', 'United States Penitentiary, Marion, Illinois', 'United States', 'No', 'Garrett Brock TrapnellMartin Joseph McNallyJames Kenneth Johnson', \"43-year-old Barbara Ann Oswald hijacked a Saint Louis-based charter helicopter and forced the pilot to land in the prison yard. While landing the aircraft, the pilot, Allen Barklage, who was a Vietnam War veteran, struggled with Oswald and managed to wrestle the gun away from her. Barklage then shot and killed Oswald, thwarting the escape.[11] A few months later Oswald's daughter hijacked TWA Flight 541 in an effort to free Trapnell.\"]\n"
     ]
    }
   ],
   "source": [
    "for i in range(3):\n",
    "    print(data[i])"
   ]
  },
  {
   "cell_type": "markdown",
   "metadata": {},
   "source": [
    "Dropping the last column from all rows, to make the data more readable"
   ]
  },
  {
   "cell_type": "code",
   "execution_count": 7,
   "metadata": {},
   "outputs": [
    {
     "name": "stdout",
     "output_type": "stream",
     "text": [
      "[['August 19, 1971', 'Santa Martha Acatitla', 'Mexico', 'Yes', 'Joel David Kaplan Carlos Antonio Contreras Castro'], ['October 31, 1973', 'Mountjoy Jail, Dublin', 'Ireland', 'Yes', \"JB O'HaganSeamus TwomeyKevin Mallon\"], ['May 24, 1978', 'United States Penitentiary, Marion, Illinois', 'United States', 'No', 'Garrett Brock TrapnellMartin Joseph McNallyJames Kenneth Johnson'], ['February 27, 1981', 'Fleury-Mérogis, Essonne, Ile de France', 'France', 'Yes', 'Gérard DupréDaniel Beaumont'], ['May 7, 1981', 'Orsainville Prison, Quebec City', 'Canada', 'No', 'Marina Paquet (hijacker)Giles Arseneault (prisoner)'], ['January, 1983', 'Pentridge (HM Prison)', 'Australia', 'No', 'David McMillan'], ['December 19, 1985', 'Perry Correctional Institution, Pelzer, South Carolina', 'United States', 'Yes', 'James Rodney LeonardWilliam Douglas BallewJesse Glenn Smith'], ['December 31, 1985', 'Cândido Mendes penitentiary, Ilha Grande, Rio de Janeiro', 'Brazil', 'Yes', 'José Carlos dos Reis Encina, a.k.a. \"Escadinha\"'], ['May 26, 1986', 'Prison de la Santé', 'France', 'Yes', 'Michel Vaujour'], ['November 5, 1986', 'Federal Correctional Institution, Dublin, California', 'United States', 'Yes', 'Samantha Lopez'], ['November 23, 1986', 'Prigione di Rebibbia, Rome', 'Italy', 'Yes', 'André BellaïcheGianluigi EspositoLuciano Cipollari'], ['December 10, 1987', 'Gartree (HM Prison)', 'United Kingdom', 'Yes', 'Sydney DraperJohn Kendall'], ['July 11, 1988', 'Penitentiary of New Mexico', 'United States', 'Yes', 'Danny MahoneyFrancis MitchellRandy Lackey'], ['April 17, 1989', 'Federal Holding Facility, Miami, Florida', 'United States', 'No', 'Ben Kramer'], ['August 19, 1989', 'Arkansas Valley Correctional Facility, Colorado', 'United States', 'Yes', 'Ralph BrownFreddie Gonzales'], ['June 19, 1990', 'Kent Penitentiary, British Columbia', 'Canada', 'Yes', 'Robert FordDavid Thomas'], ['April 7, 1991', 'Rio Piedras State Penitentiary, Puerto Rico', 'Puerto Rico', 'Yes', 'William Lane'], ['February 24, 1992', 'Lyon Prison', 'France', 'Yes', '—'], ['December 1992', 'Touraine Central Prison, Tours', 'France', 'No', '—'], ['June 17, 1993', 'Touraine Central Prison, Tours', 'France', 'No', 'Michel Vaujour'], ['December 30, 1996', 'High Security Prison, Santiago', 'Chile', 'Yes', 'Four members of the Manuel Rodriguez Patriotic Front'], ['September 18, 1997', 'De Geerhorst jail', 'Netherlands', 'No', '—'], ['March 25, 1999', 'Metropolitan Remand and Reception Centre', 'Australia', 'Yes', 'John Killick'], ['June 5, 2000', 'Martin Treatment Center for Sexually Violent Predators, Martin County, Florida', 'United States', 'Yes', 'Steven Whitsett'], ['December 13, 2000', 'Lyon prison', 'France', 'Yes', '—'], ['January 19, 2001', 'Luynes prison', 'France', 'Yes', 'Pascal Payet'], ['March 24, 2001', 'Draguignan prison', 'France', 'Yes', 'Abdelhamid CarnousEmile Forma-SariJean-Philippe Lecase'], ['May 28, 2001', 'Fresnes prison', 'France', 'No', '—'], ['January 17, 2002', 'Parada Neto Penitentiary', 'Brazil', 'Yes', '—'], ['December 30, 2002', 'Las Cucharas prison, Ponce, Puerto Rico', 'United States', 'Yes', 'Orlando Cartagena Jose Rodriguez Victor Diaz Hector Diaz Jose Tapia'], ['April 4, 2003', 'Luynes prison', 'France', 'Yes', 'Eric AlboreoFranck PerlettoMichel Valero'], ['July 2005', 'France', 'France', 'No', '—'], ['December 10, 2005', 'Aiton Prison', 'France', 'Yes', 'Hubert SellesJean-Claude MorettiMohamed Bessame'], ['June 6, 2006', 'Korydallos Prison', 'Greece', 'Yes', 'Vassilis PaleokostasAlket Rizai'], ['April 15, 2007', 'Lantin Prison, Liège', 'Belgium', 'Yes', 'Eric Ferdinand'], ['July 15, 2007', 'Grasse prison', 'France', 'Yes', 'Pascal Payet'], ['October 28, 2007', 'Ittre prison', 'Belgium', 'No', 'Nordin Benallal'], ['February 22, 2009', 'Korydallos Prison', 'Greece', 'Yes', 'Vasilis PaleokostasAlket Rizai'], ['April 27, 2009', 'Domenjod Prison, Réunion', 'France', 'Yes', 'Juliano VerbardAlexin JismyFabrice Michel'], ['July 23, 2009', 'Bruges', 'Belgium', 'Yes', 'Ashraf Sekkaki plus three other criminals'], ['June 25, 2010', 'HM Prison Isle of Wight, Isle of Wight', 'United Kingdom', 'No', 'Brian Lawrence'], ['March 22, 2012', 'Sheksna, Penal colony N17', 'Russia', 'Yes', 'Alexey Shestakov'], ['February 24, 2013', 'Trikala Prison, Trikala', 'Greece', 'No', 'Panagiotis Vlastos'], ['March 17, 2013', 'Saint-Jérôme Detention Facility, Quebec', 'Canada', 'Yes', 'Benjamin Hudon-BarbeauDanny Provençal'], ['June 7, 2014', 'Orsainville Detention Facility, Quebec', 'Canada', 'Yes', 'Yves DenisDenis LefebvreSerge Pomerleau'], ['February 22, 2016', 'Thiva', 'Greece', 'No', 'Pola RoupaNikos Maziotis'], ['July 1, 2018', 'Réau, near Paris', 'France', 'Yes', 'Rédoine Faïd'], ['September 25, 2020', 'Forest prison, Brussels', 'Belgium', 'No', 'Kristel A.']]\n"
     ]
    }
   ],
   "source": [
    "index = 0\n",
    "for row in data:\n",
    "    data[index] = row[:-1]\n",
    "    index += 1\n",
    "\n",
    "print(data)"
   ]
  },
  {
   "cell_type": "markdown",
   "metadata": {},
   "source": [
    "Fetching the year from date column"
   ]
  },
  {
   "cell_type": "code",
   "execution_count": 8,
   "metadata": {},
   "outputs": [],
   "source": [
    "# Define the fetch_year function"
   ]
  },
  {
   "cell_type": "code",
   "execution_count": 9,
   "metadata": {},
   "outputs": [],
   "source": [
    "def fetch_year(date_str):\n",
    "    # Handle cases where the date is not in the standard 'Month day, year' format\n",
    "    if ',' in date_str:\n",
    "        return int(date_str.split(', ')[1])\n",
    "    elif date_str.split()[-1].isdigit():\n",
    "        return int(date_str.split()[-1])\n",
    "    else:\n",
    "        # Handle other formats or cases where date_str is not in expected format\n",
    "        return None  # Or raise an exception, depending on your needs\n"
   ]
  },
  {
   "cell_type": "code",
   "execution_count": 10,
   "metadata": {},
   "outputs": [
    {
     "name": "stdout",
     "output_type": "stream",
     "text": [
      "[[1971, 'Santa Martha Acatitla', 'Mexico', 'Yes', 'Joel David Kaplan Carlos Antonio Contreras Castro'], [1973, 'Mountjoy Jail, Dublin', 'Ireland', 'Yes', \"JB O'HaganSeamus TwomeyKevin Mallon\"], [1978, 'United States Penitentiary, Marion, Illinois', 'United States', 'No', 'Garrett Brock TrapnellMartin Joseph McNallyJames Kenneth Johnson'], [1981, 'Fleury-Mérogis, Essonne, Ile de France', 'France', 'Yes', 'Gérard DupréDaniel Beaumont'], [1981, 'Orsainville Prison, Quebec City', 'Canada', 'No', 'Marina Paquet (hijacker)Giles Arseneault (prisoner)']]\n"
     ]
    }
   ],
   "source": [
    "for row in data:\n",
    "    row[0] = fetch_year(row[0])\n",
    "    \n",
    "print(data[:5])"
   ]
  },
  {
   "cell_type": "code",
   "execution_count": 13,
   "metadata": {},
   "outputs": [
    {
     "name": "stdout",
     "output_type": "stream",
     "text": [
      "1971\n",
      "2020\n",
      "[[1971, 1], [1973, 1], [1978, 1], [1981, 2], [1983, 1], [1985, 2], [1986, 3], [1987, 1], [1988, 1], [1989, 2], [1990, 1], [1991, 1], [1992, 2], [1993, 1], [1996, 1], [1997, 1], [1999, 1], [2000, 2], [2001, 3], [2002, 2], [2003, 1], [2005, 2], [2006, 1], [2007, 3], [2009, 3], [2010, 1], [2012, 1], [2013, 2], [2014, 1], [2016, 1], [2018, 1], [2020, 1]]\n"
     ]
    }
   ],
   "source": [
    "min_year = min(data, key=lambda x: x[0])[0]\n",
    "max_year = max(data, key=lambda x: x[0])[0]\n",
    "\n",
    "print(min_year)\n",
    "print(max_year)\n",
    "\n",
    "years = []\n",
    "for year in range(min_year, max_year + 1):\n",
    "    years.append(year)\n",
    "    \n",
    "year_counts = {}\n",
    "for row in data:\n",
    "    year = row[0]\n",
    "    if year in year_counts:\n",
    "        year_counts[year] += 1\n",
    "    else:\n",
    "        year_counts[year] = 1\n",
    "\n",
    "# Convert the year counts to a list of lists\n",
    "attempts_per_year = [[year, count] for year, count in sorted(year_counts.items())]\n",
    "print(attempts_per_year)\n",
    "    "
   ]
  },
  {
   "cell_type": "code",
   "execution_count": 14,
   "metadata": {},
   "outputs": [
    {
     "data": {
      "image/png": "[encoded data removed]",
      "text/plain": [
       "<Figure size 900x1500 with 1 Axes>"
      ]
     },
     "metadata": {},
     "output_type": "display_data"
    }
   ],
   "source": [
    "%matplotlib inline\n",
    "barplot(attempts_per_year)"
   ]
  },
  {
   "cell_type": "markdown",
   "metadata": {},
   "source": [
    "The most attempts we had in 1986, 2001, 2007, 2009."
   ]
  },
  {
   "cell_type": "code",
   "execution_count": 18,
   "metadata": {},
   "outputs": [
    {
     "data": {
      "image/png": "[encoded data removed]",
      "text/plain": [
       "<Figure size 1000x600 with 1 Axes>"
      ]
     },
     "metadata": {},
     "output_type": "display_data"
    }
   ],
   "source": [
    "# Extract counts from attempts_per_year\n",
    "counts = [entry[1] for entry in attempts_per_year]\n",
    "\n",
    "# Define bins (ranges) for grouping the data\n",
    "bins = range(min(counts), max(counts) + 2)  # Adjust bins as needed\n",
    "\n",
    "# Plotting the histogram\n",
    "plt.figure(figsize=(10, 6))  # Adjust figure size if needed\n",
    "plt.hist(counts, bins=bins, edgecolor='black', color='skyblue')\n",
    "\n",
    "plt.title('Distribution of Attempt Counts')\n",
    "plt.xlabel('Attempt Count')\n",
    "plt.ylabel('Frequency')\n",
    "\n",
    "plt.xticks(bins)  # Optional: Ensure all bins are shown on x-axis\n",
    "plt.grid(True)\n",
    "\n",
    "plt.show()"
   ]
  },
  {
   "cell_type": "markdown",
   "metadata": {},
   "source": [
    "Attemps by country:"
   ]
  },
  {
   "cell_type": "code",
   "execution_count": 19,
   "metadata": {},
   "outputs": [],
   "source": [
    "countries_frequency = df[\"Country\"].value_counts()"
   ]
  },
  {
   "cell_type": "code",
   "execution_count": 20,
   "metadata": {},
   "outputs": [
    {
     "data": {
      "text/html": [
       "<table border=\"1\" class=\"dataframe\">\n",
       "  <thead>\n",
       "    <tr style=\"text-align: right;\">\n",
       "      <th>Country</th>\n",
       "      <th>Number of Occurrences</th>\n",
       "    </tr>\n",
       "  </thead>\n",
       "  <tbody>\n",
       "    <tr>\n",
       "      <td>France</td>\n",
       "      <td>15</td>\n",
       "    </tr>\n",
       "    <tr>\n",
       "      <td>United States</td>\n",
       "      <td>8</td>\n",
       "    </tr>\n",
       "    <tr>\n",
       "      <td>Greece</td>\n",
       "      <td>4</td>\n",
       "    </tr>\n",
       "    <tr>\n",
       "      <td>Belgium</td>\n",
       "      <td>4</td>\n",
       "    </tr>\n",
       "    <tr>\n",
       "      <td>Canada</td>\n",
       "      <td>4</td>\n",
       "    </tr>\n",
       "    <tr>\n",
       "      <td>United Kingdom</td>\n",
       "      <td>2</td>\n",
       "    </tr>\n",
       "    <tr>\n",
       "      <td>Australia</td>\n",
       "      <td>2</td>\n",
       "    </tr>\n",
       "    <tr>\n",
       "      <td>Brazil</td>\n",
       "      <td>2</td>\n",
       "    </tr>\n",
       "    <tr>\n",
       "      <td>Italy</td>\n",
       "      <td>1</td>\n",
       "    </tr>\n",
       "    <tr>\n",
       "      <td>Mexico</td>\n",
       "      <td>1</td>\n",
       "    </tr>\n",
       "    <tr>\n",
       "      <td>Chile</td>\n",
       "      <td>1</td>\n",
       "    </tr>\n",
       "    <tr>\n",
       "      <td>Ireland</td>\n",
       "      <td>1</td>\n",
       "    </tr>\n",
       "    <tr>\n",
       "      <td>Netherlands</td>\n",
       "      <td>1</td>\n",
       "    </tr>\n",
       "    <tr>\n",
       "      <td>Puerto Rico</td>\n",
       "      <td>1</td>\n",
       "    </tr>\n",
       "    <tr>\n",
       "      <td>Russia</td>\n",
       "      <td>1</td>\n",
       "    </tr>\n",
       "  </tbody>\n",
       "</table>"
      ],
      "text/plain": [
       "<IPython.core.display.HTML object>"
      ]
     },
     "metadata": {},
     "output_type": "display_data"
    }
   ],
   "source": [
    "print_pretty_table(countries_frequency)"
   ]
  },
  {
   "cell_type": "code",
   "execution_count": 25,
   "metadata": {},
   "outputs": [
    {
     "name": "stdout",
     "output_type": "stream",
     "text": [
      "[[1971, 'Santa Martha Acatitla', 'Mexico', 'Yes', 'Joel David Kaplan Carlos Antonio Contreras Castro'], [1973, 'Mountjoy Jail, Dublin', 'Ireland', 'Yes', \"JB O'HaganSeamus TwomeyKevin Mallon\"], [1978, 'United States Penitentiary, Marion, Illinois', 'United States', 'No', 'Garrett Brock TrapnellMartin Joseph McNallyJames Kenneth Johnson'], [1981, 'Fleury-Mérogis, Essonne, Ile de France', 'France', 'Yes', 'Gérard DupréDaniel Beaumont'], [1981, 'Orsainville Prison, Quebec City', 'Canada', 'No', 'Marina Paquet (hijacker)Giles Arseneault (prisoner)'], [1983, 'Pentridge (HM Prison)', 'Australia', 'No', 'David McMillan'], [1985, 'Perry Correctional Institution, Pelzer, South Carolina', 'United States', 'Yes', 'James Rodney LeonardWilliam Douglas BallewJesse Glenn Smith'], [1985, 'Cândido Mendes penitentiary, Ilha Grande, Rio de Janeiro', 'Brazil', 'Yes', 'José Carlos dos Reis Encina, a.k.a. \"Escadinha\"'], [1986, 'Prison de la Santé', 'France', 'Yes', 'Michel Vaujour'], [1986, 'Federal Correctional Institution, Dublin, California', 'United States', 'Yes', 'Samantha Lopez'], [1986, 'Prigione di Rebibbia, Rome', 'Italy', 'Yes', 'André BellaïcheGianluigi EspositoLuciano Cipollari'], [1987, 'Gartree (HM Prison)', 'United Kingdom', 'Yes', 'Sydney DraperJohn Kendall'], [1988, 'Penitentiary of New Mexico', 'United States', 'Yes', 'Danny MahoneyFrancis MitchellRandy Lackey'], [1989, 'Federal Holding Facility, Miami, Florida', 'United States', 'No', 'Ben Kramer'], [1989, 'Arkansas Valley Correctional Facility, Colorado', 'United States', 'Yes', 'Ralph BrownFreddie Gonzales'], [1990, 'Kent Penitentiary, British Columbia', 'Canada', 'Yes', 'Robert FordDavid Thomas'], [1991, 'Rio Piedras State Penitentiary, Puerto Rico', 'Puerto Rico', 'Yes', 'William Lane'], [1992, 'Lyon Prison', 'France', 'Yes', '—'], [1992, 'Touraine Central Prison, Tours', 'France', 'No', '—'], [1993, 'Touraine Central Prison, Tours', 'France', 'No', 'Michel Vaujour'], [1996, 'High Security Prison, Santiago', 'Chile', 'Yes', 'Four members of the Manuel Rodriguez Patriotic Front'], [1997, 'De Geerhorst jail', 'Netherlands', 'No', '—'], [1999, 'Metropolitan Remand and Reception Centre', 'Australia', 'Yes', 'John Killick'], [2000, 'Martin Treatment Center for Sexually Violent Predators, Martin County, Florida', 'United States', 'Yes', 'Steven Whitsett'], [2000, 'Lyon prison', 'France', 'Yes', '—'], [2001, 'Luynes prison', 'France', 'Yes', 'Pascal Payet'], [2001, 'Draguignan prison', 'France', 'Yes', 'Abdelhamid CarnousEmile Forma-SariJean-Philippe Lecase'], [2001, 'Fresnes prison', 'France', 'No', '—'], [2002, 'Parada Neto Penitentiary', 'Brazil', 'Yes', '—'], [2002, 'Las Cucharas prison, Ponce, Puerto Rico', 'United States', 'Yes', 'Orlando Cartagena Jose Rodriguez Victor Diaz Hector Diaz Jose Tapia'], [2003, 'Luynes prison', 'France', 'Yes', 'Eric AlboreoFranck PerlettoMichel Valero'], [2005, 'France', 'France', 'No', '—'], [2005, 'Aiton Prison', 'France', 'Yes', 'Hubert SellesJean-Claude MorettiMohamed Bessame'], [2006, 'Korydallos Prison', 'Greece', 'Yes', 'Vassilis PaleokostasAlket Rizai'], [2007, 'Lantin Prison, Liège', 'Belgium', 'Yes', 'Eric Ferdinand'], [2007, 'Grasse prison', 'France', 'Yes', 'Pascal Payet'], [2007, 'Ittre prison', 'Belgium', 'No', 'Nordin Benallal'], [2009, 'Korydallos Prison', 'Greece', 'Yes', 'Vasilis PaleokostasAlket Rizai'], [2009, 'Domenjod Prison, Réunion', 'France', 'Yes', 'Juliano VerbardAlexin JismyFabrice Michel'], [2009, 'Bruges', 'Belgium', 'Yes', 'Ashraf Sekkaki plus three other criminals'], [2010, 'HM Prison Isle of Wight, Isle of Wight', 'United Kingdom', 'No', 'Brian Lawrence'], [2012, 'Sheksna, Penal colony N17', 'Russia', 'Yes', 'Alexey Shestakov'], [2013, 'Trikala Prison, Trikala', 'Greece', 'No', 'Panagiotis Vlastos'], [2013, 'Saint-Jérôme Detention Facility, Quebec', 'Canada', 'Yes', 'Benjamin Hudon-BarbeauDanny Provençal'], [2014, 'Orsainville Detention Facility, Quebec', 'Canada', 'Yes', 'Yves DenisDenis LefebvreSerge Pomerleau'], [2016, 'Thiva', 'Greece', 'No', 'Pola RoupaNikos Maziotis'], [2018, 'Réau, near Paris', 'France', 'Yes', 'Rédoine Faïd'], [2020, 'Forest prison, Brussels', 'Belgium', 'No', 'Kristel A.']]\n"
     ]
    }
   ],
   "source": [
    "print(data)"
   ]
  },
  {
   "cell_type": "code",
   "execution_count": 26,
   "metadata": {},
   "outputs": [],
   "source": [
    "# Dictionary to store counts by country\n",
    "country_counts = {}\n",
    "\n",
    "# Count occurrences of 'Yes' and 'No' grouped by country\n",
    "for entry in data:\n",
    "    country = entry[2]  # Country is at index 2 in each entry\n",
    "    status = entry[3]   # Status ('Yes' or 'No') is at index 3\n",
    "    if country in country_counts:\n",
    "        if status == 'Yes':\n",
    "            country_counts[country]['Yes'] += 1\n",
    "        elif status == 'No':\n",
    "            country_counts[country]['No'] += 1\n",
    "    else:\n",
    "        if status == 'Yes':\n",
    "            country_counts[country] = {'Yes': 1, 'No': 0}\n",
    "        elif status == 'No':\n",
    "            country_counts[country] = {'Yes': 0, 'No': 1}"
   ]
  },
  {
   "cell_type": "code",
   "execution_count": 27,
   "metadata": {},
   "outputs": [
    {
     "name": "stdout",
     "output_type": "stream",
     "text": [
      "{'Mexico': {'Yes': 1, 'No': 0}, 'Ireland': {'Yes': 1, 'No': 0}, 'United States': {'Yes': 6, 'No': 2}, 'France': {'Yes': 11, 'No': 4}, 'Canada': {'Yes': 3, 'No': 1}, 'Australia': {'Yes': 1, 'No': 1}, 'Brazil': {'Yes': 2, 'No': 0}, 'Italy': {'Yes': 1, 'No': 0}, 'United Kingdom': {'Yes': 1, 'No': 1}, 'Puerto Rico': {'Yes': 1, 'No': 0}, 'Chile': {'Yes': 1, 'No': 0}, 'Netherlands': {'Yes': 0, 'No': 1}, 'Greece': {'Yes': 2, 'No': 2}, 'Belgium': {'Yes': 2, 'No': 2}, 'Russia': {'Yes': 1, 'No': 0}}\n"
     ]
    }
   ],
   "source": [
    "print(country_counts)"
   ]
  },
  {
   "cell_type": "code",
   "execution_count": 28,
   "metadata": {},
   "outputs": [
    {
     "name": "stdout",
     "output_type": "stream",
     "text": [
      "Country: France, Number of successful helicopter prison breaks: 11\n",
      "Country: United States, Number of successful helicopter prison breaks: 6\n",
      "Country: Canada, Number of successful helicopter prison breaks: 3\n",
      "Country: Brazil, Number of successful helicopter prison breaks: 2\n",
      "Country: Greece, Number of successful helicopter prison breaks: 2\n",
      "Country: Belgium, Number of successful helicopter prison breaks: 2\n",
      "Country: Mexico, Number of successful helicopter prison breaks: 1\n",
      "Country: Ireland, Number of successful helicopter prison breaks: 1\n",
      "Country: Italy, Number of successful helicopter prison breaks: 1\n",
      "Country: United Kingdom, Number of successful helicopter prison breaks: 1\n",
      "Country: Puerto Rico, Number of successful helicopter prison breaks: 1\n",
      "Country: Chile, Number of successful helicopter prison breaks: 1\n",
      "Country: Australia, Number of successful helicopter prison breaks: 1\n",
      "Country: Russia, Number of successful helicopter prison breaks: 1\n"
     ]
    }
   ],
   "source": [
    "# Dictionary to store counts of helicopter prison breaks by country\n",
    "helicopter_breaks = {}\n",
    "\n",
    "# Iterate through data to count helicopter prison breaks by country\n",
    "for entry in data:\n",
    "    country = entry[2]  # Country is at index 2 in each entry\n",
    "    if entry[3] == 'Yes':  # Check if the escape was successful\n",
    "        if country in helicopter_breaks:\n",
    "            helicopter_breaks[country] += 1\n",
    "        else:\n",
    "            helicopter_breaks[country] = 1\n",
    "\n",
    "# Print countries with higher chances of successful helicopter prison breaks\n",
    "for country, count in sorted(helicopter_breaks.items(), key=lambda item: item[1], reverse=True):\n",
    "    print(f'Country: {country}, Number of successful helicopter prison breaks: {count}')"
   ]
  },
  {
   "cell_type": "code",
   "execution_count": null,
   "metadata": {},
   "outputs": [],
   "source": []
  }
 ],
 "metadata": {
  "kernelspec": {
   "display_name": "Python 3",
   "language": "python",
   "name": "python3"
  },
  "language_info": {
   "codemirror_mode": {
    "name": "ipython",
    "version": 3
   },
   "file_extension": ".py",
   "mimetype": "text/x-python",
   "name": "python",
   "nbconvert_exporter": "python",
   "pygments_lexer": "ipython3",
   "version": "3.8.2"
  }
 },
 "nbformat": 4,
 "nbformat_minor": 2
}
